{
 "cells": [
  {
   "cell_type": "code",
   "execution_count": 3,
   "id": "f8a435f9",
   "metadata": {},
   "outputs": [
    {
     "name": "stdout",
     "output_type": "stream",
     "text": [
      "1\n",
      "2\n",
      "3\n",
      "4\n",
      "5\n",
      "6\n",
      "7\n",
      "8\n",
      "9\n",
      "10\n"
     ]
    }
   ],
   "source": [
    "a = 1\n",
    "while a <= 10:\n",
    "    print(a)\n",
    "    a = a+1"
   ]
  },
  {
   "cell_type": "code",
   "execution_count": 4,
   "id": "37cbe574",
   "metadata": {},
   "outputs": [
    {
     "name": "stdout",
     "output_type": "stream",
     "text": [
      "10 11\n"
     ]
    }
   ],
   "source": [
    "print(10,11)"
   ]
  },
  {
   "cell_type": "code",
   "execution_count": 5,
   "id": "2f2bc009",
   "metadata": {},
   "outputs": [
    {
     "name": "stdout",
     "output_type": "stream",
     "text": [
      "10\n",
      "11\n"
     ]
    }
   ],
   "source": [
    "print(10)\n",
    "print(11)"
   ]
  },
  {
   "cell_type": "code",
   "execution_count": 6,
   "id": "e637731b",
   "metadata": {},
   "outputs": [],
   "source": [
    "s1 = {1,2,3,4}\n",
    "s2 = {3,4,5,6}"
   ]
  },
  {
   "cell_type": "code",
   "execution_count": 7,
   "id": "6d27a29d",
   "metadata": {},
   "outputs": [
    {
     "data": {
      "text/plain": [
       "{1, 2, 3, 4, 5, 6}"
      ]
     },
     "execution_count": 7,
     "metadata": {},
     "output_type": "execute_result"
    }
   ],
   "source": [
    "s1.union(s2)"
   ]
  },
  {
   "cell_type": "code",
   "execution_count": 8,
   "id": "7e4ab8f9",
   "metadata": {},
   "outputs": [
    {
     "data": {
      "text/plain": [
       "{1, 2, 3, 4, 5, 6}"
      ]
     },
     "execution_count": 8,
     "metadata": {},
     "output_type": "execute_result"
    }
   ],
   "source": [
    "s1 | s2"
   ]
  },
  {
   "cell_type": "code",
   "execution_count": 9,
   "id": "89403f80",
   "metadata": {},
   "outputs": [],
   "source": [
    "import operator\n",
    "from functools import reduce"
   ]
  },
  {
   "cell_type": "code",
   "execution_count": 10,
   "id": "973a9e72",
   "metadata": {},
   "outputs": [],
   "source": [
    "l1 = [1,2,3,4,5]"
   ]
  },
  {
   "cell_type": "code",
   "execution_count": 11,
   "id": "05f6854d",
   "metadata": {},
   "outputs": [
    {
     "data": {
      "text/plain": [
       "15"
      ]
     },
     "execution_count": 11,
     "metadata": {},
     "output_type": "execute_result"
    }
   ],
   "source": [
    "reduce(operator.add, l1)"
   ]
  },
  {
   "cell_type": "code",
   "execution_count": 12,
   "id": "3660d4d0",
   "metadata": {},
   "outputs": [
    {
     "data": {
      "text/plain": [
       "-13"
      ]
     },
     "execution_count": 12,
     "metadata": {},
     "output_type": "execute_result"
    }
   ],
   "source": [
    "reduce(operator.sub, l1)"
   ]
  },
  {
   "cell_type": "code",
   "execution_count": 13,
   "id": "1e57e8a2",
   "metadata": {},
   "outputs": [
    {
     "data": {
      "text/plain": [
       "120"
      ]
     },
     "execution_count": 13,
     "metadata": {},
     "output_type": "execute_result"
    }
   ],
   "source": [
    "reduce(operator.mul, l1)"
   ]
  },
  {
   "cell_type": "code",
   "execution_count": 14,
   "id": "c8aaf609",
   "metadata": {},
   "outputs": [],
   "source": [
    "s1 = {\"Intellipaat\", \"Python\", \"class\"}\n",
    "s2 = {12,43,5,6}"
   ]
  },
  {
   "cell_type": "code",
   "execution_count": 16,
   "id": "f35e0438",
   "metadata": {},
   "outputs": [],
   "source": [
    "import itertools"
   ]
  },
  {
   "cell_type": "code",
   "execution_count": 17,
   "id": "947dc138",
   "metadata": {},
   "outputs": [
    {
     "data": {
      "text/plain": [
       "{12, 43, 5, 6, 'Intellipaat', 'Python', 'class'}"
      ]
     },
     "execution_count": 17,
     "metadata": {},
     "output_type": "execute_result"
    }
   ],
   "source": [
    "operator.or_(s1, s2)"
   ]
  },
  {
   "cell_type": "code",
   "execution_count": 18,
   "id": "600e3f90",
   "metadata": {},
   "outputs": [
    {
     "data": {
      "text/plain": [
       "set()"
      ]
     },
     "execution_count": 18,
     "metadata": {},
     "output_type": "execute_result"
    }
   ],
   "source": [
    "operator.and_(s1, s2)"
   ]
  },
  {
   "cell_type": "code",
   "execution_count": 19,
   "id": "c2abe158",
   "metadata": {},
   "outputs": [],
   "source": [
    "s3 = {12,34,56,76}"
   ]
  },
  {
   "cell_type": "code",
   "execution_count": 21,
   "id": "2f0b5d04",
   "metadata": {},
   "outputs": [
    {
     "data": {
      "text/plain": [
       "{12, 34, 43, 5, 56, 6, 76, 'Intellipaat', 'Python', 'class'}"
      ]
     },
     "execution_count": 21,
     "metadata": {},
     "output_type": "execute_result"
    }
   ],
   "source": [
    "set(itertools.chain(s1, s2, s3))"
   ]
  },
  {
   "cell_type": "code",
   "execution_count": 29,
   "id": "5197d596",
   "metadata": {},
   "outputs": [
    {
     "data": {
      "text/plain": [
       "{12, 34, 43, 5, 56, 6, 76, 'Intellipaat', 'Python', 'class'}"
      ]
     },
     "execution_count": 29,
     "metadata": {},
     "output_type": "execute_result"
    }
   ],
   "source": [
    "s1.union(s2).union(s3)"
   ]
  },
  {
   "cell_type": "code",
   "execution_count": 28,
   "id": "6fa845f5",
   "metadata": {},
   "outputs": [
    {
     "data": {
      "text/plain": [
       "['class', 'Python', 'Intellipaat', 43, 12, 5, 6, 56, 34, 12, 76]"
      ]
     },
     "execution_count": 28,
     "metadata": {},
     "output_type": "execute_result"
    }
   ],
   "source": [
    "list(itertools.chain(s1, s2, s3))"
   ]
  },
  {
   "cell_type": "code",
   "execution_count": 22,
   "id": "a0be72e4",
   "metadata": {},
   "outputs": [
    {
     "name": "stdout",
     "output_type": "stream",
     "text": [
      "class\n",
      "Python\n",
      "Intellipaat\n",
      "43\n",
      "12\n",
      "5\n",
      "6\n"
     ]
    }
   ],
   "source": [
    "for i in itertools.chain(s1,s2):\n",
    "    print(i)"
   ]
  },
  {
   "cell_type": "code",
   "execution_count": 23,
   "id": "58f02296",
   "metadata": {},
   "outputs": [
    {
     "data": {
      "text/plain": [
       "[1, 2, 3, 4, 5]"
      ]
     },
     "execution_count": 23,
     "metadata": {},
     "output_type": "execute_result"
    }
   ],
   "source": [
    "l1"
   ]
  },
  {
   "cell_type": "code",
   "execution_count": 26,
   "id": "ec6e9fbe",
   "metadata": {},
   "outputs": [],
   "source": [
    "l2 = [3,4,5,6,7]"
   ]
  },
  {
   "cell_type": "code",
   "execution_count": 27,
   "id": "84535452",
   "metadata": {},
   "outputs": [
    {
     "name": "stdout",
     "output_type": "stream",
     "text": [
      "1\n",
      "2\n",
      "3\n",
      "4\n",
      "5\n",
      "3\n",
      "4\n",
      "5\n",
      "6\n",
      "7\n"
     ]
    }
   ],
   "source": [
    "for i in itertools.chain(l1,l2):\n",
    "    print(i)"
   ]
  },
  {
   "cell_type": "code",
   "execution_count": 30,
   "id": "a655ce4f",
   "metadata": {},
   "outputs": [
    {
     "data": {
      "text/plain": [
       "(1, 2, 3, 4, 5, 3, 4, 5, 6, 7)"
      ]
     },
     "execution_count": 30,
     "metadata": {},
     "output_type": "execute_result"
    }
   ],
   "source": [
    "(*l1, *l2)"
   ]
  },
  {
   "cell_type": "code",
   "execution_count": 31,
   "id": "0af0aeb5",
   "metadata": {},
   "outputs": [
    {
     "data": {
      "text/plain": [
       "[1, 2, 3, 4, 5, 3, 4, 5, 6, 7]"
      ]
     },
     "execution_count": 31,
     "metadata": {},
     "output_type": "execute_result"
    }
   ],
   "source": [
    "[*l1, *l2]"
   ]
  },
  {
   "cell_type": "code",
   "execution_count": 32,
   "id": "d8f531d2",
   "metadata": {},
   "outputs": [
    {
     "data": {
      "text/plain": [
       "{1, 2, 3, 4, 5, 6, 7}"
      ]
     },
     "execution_count": 32,
     "metadata": {},
     "output_type": "execute_result"
    }
   ],
   "source": [
    "{*l1, *l2}"
   ]
  },
  {
   "cell_type": "code",
   "execution_count": 33,
   "id": "a6ae16a2",
   "metadata": {},
   "outputs": [
    {
     "data": {
      "text/plain": [
       "{'Intellipaat', 'Python', 'class'}"
      ]
     },
     "execution_count": 33,
     "metadata": {},
     "output_type": "execute_result"
    }
   ],
   "source": [
    "s1"
   ]
  },
  {
   "cell_type": "code",
   "execution_count": 34,
   "id": "f45b564f",
   "metadata": {},
   "outputs": [
    {
     "data": {
      "text/plain": [
       "{5, 6, 12, 43}"
      ]
     },
     "execution_count": 34,
     "metadata": {},
     "output_type": "execute_result"
    }
   ],
   "source": [
    "s2"
   ]
  },
  {
   "cell_type": "code",
   "execution_count": 35,
   "id": "48e52098",
   "metadata": {},
   "outputs": [],
   "source": [
    "s1.update(s2)"
   ]
  },
  {
   "cell_type": "code",
   "execution_count": 36,
   "id": "f299a0c7",
   "metadata": {},
   "outputs": [
    {
     "data": {
      "text/plain": [
       "{12, 43, 5, 6, 'Intellipaat', 'Python', 'class'}"
      ]
     },
     "execution_count": 36,
     "metadata": {},
     "output_type": "execute_result"
    }
   ],
   "source": [
    "s1"
   ]
  },
  {
   "cell_type": "code",
   "execution_count": 37,
   "id": "2a3eae04",
   "metadata": {},
   "outputs": [],
   "source": [
    "s1 ={1,2,3,4,5}\n",
    "s2 ={1,2,6}"
   ]
  },
  {
   "cell_type": "code",
   "execution_count": 38,
   "id": "c5c95265",
   "metadata": {},
   "outputs": [],
   "source": [
    "s1.update(s2)"
   ]
  },
  {
   "cell_type": "code",
   "execution_count": 39,
   "id": "52aa5c55",
   "metadata": {},
   "outputs": [
    {
     "data": {
      "text/plain": [
       "{1, 2, 3, 4, 5, 6}"
      ]
     },
     "execution_count": 39,
     "metadata": {},
     "output_type": "execute_result"
    }
   ],
   "source": [
    "s1"
   ]
  },
  {
   "cell_type": "code",
   "execution_count": 40,
   "id": "fd9bd74e",
   "metadata": {},
   "outputs": [
    {
     "data": {
      "text/plain": [
       "{1, 2, 6}"
      ]
     },
     "execution_count": 40,
     "metadata": {},
     "output_type": "execute_result"
    }
   ],
   "source": [
    "s2"
   ]
  },
  {
   "cell_type": "code",
   "execution_count": 55,
   "id": "8af6a83c",
   "metadata": {
    "scrolled": true
   },
   "outputs": [
    {
     "name": "stdout",
     "output_type": "stream",
     "text": [
      "* \n",
      "\n",
      "* * \n",
      "\n",
      "* * * \n",
      "\n",
      "* * * * \n",
      "\n",
      "* * * * * \n",
      "\n"
     ]
    }
   ],
   "source": [
    "rows = 5\n",
    "\n",
    "for i in range(rows):\n",
    "    for j in range(i+1):\n",
    "        print(\"*\", end=\" \")\n",
    "    print(\"\\n\")"
   ]
  },
  {
   "cell_type": "code",
   "execution_count": 56,
   "id": "ed919992",
   "metadata": {},
   "outputs": [
    {
     "name": "stdout",
     "output_type": "stream",
     "text": [
      "1\n"
     ]
    }
   ],
   "source": [
    "print(1)"
   ]
  },
  {
   "cell_type": "code",
   "execution_count": 57,
   "id": "08bd8b40",
   "metadata": {},
   "outputs": [],
   "source": [
    "def welcome():\n",
    "    print(\"Welcome to the class!\")"
   ]
  },
  {
   "cell_type": "code",
   "execution_count": 58,
   "id": "704c0f8e",
   "metadata": {},
   "outputs": [
    {
     "name": "stdout",
     "output_type": "stream",
     "text": [
      "Welcome to the class!\n"
     ]
    }
   ],
   "source": [
    "welcome()"
   ]
  },
  {
   "cell_type": "code",
   "execution_count": 59,
   "id": "8f24a135",
   "metadata": {},
   "outputs": [
    {
     "data": {
      "text/plain": [
       "'Welcome to the class Ernest'"
      ]
     },
     "execution_count": 59,
     "metadata": {},
     "output_type": "execute_result"
    }
   ],
   "source": [
    "name = \"Ernest\"\n",
    "f\"Welcome to the class {name}\""
   ]
  },
  {
   "cell_type": "code",
   "execution_count": 60,
   "id": "84358031",
   "metadata": {},
   "outputs": [
    {
     "data": {
      "text/plain": [
       "'Welcome to the class name'"
      ]
     },
     "execution_count": 60,
     "metadata": {},
     "output_type": "execute_result"
    }
   ],
   "source": [
    "name = \"Ernest\"\n",
    "f\"Welcome to the class name\""
   ]
  },
  {
   "cell_type": "code",
   "execution_count": 61,
   "id": "957058e5",
   "metadata": {},
   "outputs": [
    {
     "data": {
      "text/plain": [
       "'Welcome to the class {Ernest}'"
      ]
     },
     "execution_count": 61,
     "metadata": {},
     "output_type": "execute_result"
    }
   ],
   "source": [
    "name = \"Ernest\"\n",
    "\"Welcome to the class {Ernest}\""
   ]
  },
  {
   "cell_type": "code",
   "execution_count": 67,
   "id": "fafa2eb5",
   "metadata": {},
   "outputs": [],
   "source": [
    "def welcome(name):\n",
    "    print(f\"Welcome to the class {name}!\")"
   ]
  },
  {
   "cell_type": "code",
   "execution_count": 68,
   "id": "03e9f094",
   "metadata": {},
   "outputs": [
    {
     "name": "stdout",
     "output_type": "stream",
     "text": [
      "Welcome to the class Ernest!\n"
     ]
    }
   ],
   "source": [
    "welcome(\"Ernest\")"
   ]
  },
  {
   "cell_type": "code",
   "execution_count": 69,
   "id": "c6bf90f2",
   "metadata": {},
   "outputs": [
    {
     "name": "stdout",
     "output_type": "stream",
     "text": [
      "Welcome to the class Vinay!\n"
     ]
    }
   ],
   "source": [
    "welcome(\"Vinay\")"
   ]
  },
  {
   "cell_type": "code",
   "execution_count": 80,
   "id": "182ec7c7",
   "metadata": {},
   "outputs": [],
   "source": [
    "def sq(n):\n",
    "    return n*n"
   ]
  },
  {
   "cell_type": "code",
   "execution_count": 81,
   "id": "3cc14e46",
   "metadata": {},
   "outputs": [
    {
     "data": {
      "text/plain": [
       "4"
      ]
     },
     "execution_count": 81,
     "metadata": {},
     "output_type": "execute_result"
    }
   ],
   "source": [
    "sq(2)"
   ]
  },
  {
   "cell_type": "code",
   "execution_count": 82,
   "id": "14456dad",
   "metadata": {},
   "outputs": [
    {
     "data": {
      "text/plain": [
       "10000"
      ]
     },
     "execution_count": 82,
     "metadata": {},
     "output_type": "execute_result"
    }
   ],
   "source": [
    "sq(100)"
   ]
  },
  {
   "cell_type": "code",
   "execution_count": 83,
   "id": "f9ebaaa4",
   "metadata": {},
   "outputs": [
    {
     "data": {
      "text/plain": [
       "100"
      ]
     },
     "execution_count": 83,
     "metadata": {},
     "output_type": "execute_result"
    }
   ],
   "source": [
    "sq(n=10)"
   ]
  },
  {
   "cell_type": "code",
   "execution_count": 84,
   "id": "16c0ae4e",
   "metadata": {},
   "outputs": [
    {
     "ename": "TypeError",
     "evalue": "sq() missing 1 required positional argument: 'n'",
     "output_type": "error",
     "traceback": [
      "\u001b[0;31m---------------------------------------------------------------------------\u001b[0m",
      "\u001b[0;31mTypeError\u001b[0m                                 Traceback (most recent call last)",
      "\u001b[0;32m/var/folders/0x/8qbylcs945qcwxhy42nzt0340000gn/T/ipykernel_1118/3824491916.py\u001b[0m in \u001b[0;36m<module>\u001b[0;34m\u001b[0m\n\u001b[0;32m----> 1\u001b[0;31m \u001b[0msq\u001b[0m\u001b[0;34m(\u001b[0m\u001b[0;34m)\u001b[0m\u001b[0;34m\u001b[0m\u001b[0;34m\u001b[0m\u001b[0m\n\u001b[0m",
      "\u001b[0;31mTypeError\u001b[0m: sq() missing 1 required positional argument: 'n'"
     ]
    }
   ],
   "source": [
    "sq()"
   ]
  },
  {
   "cell_type": "code",
   "execution_count": 74,
   "id": "94198d7f",
   "metadata": {},
   "outputs": [],
   "source": [
    "def welcome(name=None):\n",
    "    if name is None:\n",
    "        print(\"Welcome to the class!\")\n",
    "    else:\n",
    "        print(f\"Welcome to the class {name}!\")"
   ]
  },
  {
   "cell_type": "code",
   "execution_count": 75,
   "id": "250c3840",
   "metadata": {},
   "outputs": [
    {
     "name": "stdout",
     "output_type": "stream",
     "text": [
      "Welcome to the class!\n"
     ]
    }
   ],
   "source": [
    "welcome()"
   ]
  },
  {
   "cell_type": "code",
   "execution_count": 76,
   "id": "677b3168",
   "metadata": {},
   "outputs": [
    {
     "name": "stdout",
     "output_type": "stream",
     "text": [
      "Welcome to the class Suraj!\n"
     ]
    }
   ],
   "source": [
    "welcome(\"Suraj\")"
   ]
  },
  {
   "cell_type": "code",
   "execution_count": 88,
   "id": "b5ae7874",
   "metadata": {},
   "outputs": [],
   "source": [
    "def sq(n=0):\n",
    "    return n*n"
   ]
  },
  {
   "cell_type": "code",
   "execution_count": 89,
   "id": "a03b8025",
   "metadata": {},
   "outputs": [
    {
     "data": {
      "text/plain": [
       "9"
      ]
     },
     "execution_count": 89,
     "metadata": {},
     "output_type": "execute_result"
    }
   ],
   "source": [
    "sq(3)"
   ]
  },
  {
   "cell_type": "code",
   "execution_count": 90,
   "id": "9e16db94",
   "metadata": {},
   "outputs": [
    {
     "data": {
      "text/plain": [
       "0"
      ]
     },
     "execution_count": 90,
     "metadata": {},
     "output_type": "execute_result"
    }
   ],
   "source": [
    "sq()"
   ]
  },
  {
   "cell_type": "code",
   "execution_count": 91,
   "id": "f7c4d6a1",
   "metadata": {},
   "outputs": [],
   "source": [
    "def gn(a,b,c):\n",
    "    if (a>b) & (a>c):\n",
    "        return a\n",
    "    elif b>c:\n",
    "        return b\n",
    "    else:\n",
    "        return c"
   ]
  },
  {
   "cell_type": "code",
   "execution_count": 94,
   "id": "df41a7da",
   "metadata": {},
   "outputs": [
    {
     "data": {
      "text/plain": [
       "72"
      ]
     },
     "execution_count": 94,
     "metadata": {},
     "output_type": "execute_result"
    }
   ],
   "source": [
    "gn(41,23,72)"
   ]
  },
  {
   "cell_type": "code",
   "execution_count": 95,
   "id": "26d4b741",
   "metadata": {},
   "outputs": [
    {
     "data": {
      "text/plain": [
       "72"
      ]
     },
     "execution_count": 95,
     "metadata": {},
     "output_type": "execute_result"
    }
   ],
   "source": [
    "gn(a=41,b=23,c=72)"
   ]
  },
  {
   "cell_type": "code",
   "execution_count": 96,
   "id": "31862c89",
   "metadata": {},
   "outputs": [
    {
     "data": {
      "text/plain": [
       "72"
      ]
     },
     "execution_count": 96,
     "metadata": {},
     "output_type": "execute_result"
    }
   ],
   "source": [
    "gn(b=23, a=41, c=72)"
   ]
  },
  {
   "cell_type": "code",
   "execution_count": 108,
   "id": "50eebf0b",
   "metadata": {},
   "outputs": [],
   "source": [
    "def gn(*args):\n",
    "    result = args[0]\n",
    "    for i in args:\n",
    "        if i > result:\n",
    "            result = i\n",
    "    return result"
   ]
  },
  {
   "cell_type": "code",
   "execution_count": 109,
   "id": "0a5e177a",
   "metadata": {},
   "outputs": [
    {
     "data": {
      "text/plain": [
       "23"
      ]
     },
     "execution_count": 109,
     "metadata": {},
     "output_type": "execute_result"
    }
   ],
   "source": [
    "gn(1,2,3,2,2,4,23,2)"
   ]
  },
  {
   "cell_type": "code",
   "execution_count": 110,
   "id": "7d36d461",
   "metadata": {},
   "outputs": [
    {
     "data": {
      "text/plain": [
       "98"
      ]
     },
     "execution_count": 110,
     "metadata": {},
     "output_type": "execute_result"
    }
   ],
   "source": [
    "gn(2,98)"
   ]
  },
  {
   "cell_type": "code",
   "execution_count": 120,
   "id": "c2a8922f",
   "metadata": {},
   "outputs": [],
   "source": [
    "def gn(*args, **kwargs):\n",
    "    print(args)\n",
    "    print(kwargs)"
   ]
  },
  {
   "cell_type": "code",
   "execution_count": 121,
   "id": "0897ae8a",
   "metadata": {},
   "outputs": [
    {
     "name": "stdout",
     "output_type": "stream",
     "text": [
      "(1, 2, 3, 4)\n",
      "{'a': 1, 'b': 34}\n"
     ]
    }
   ],
   "source": [
    "gn(1,2,3,4,a=1,b=34)"
   ]
  },
  {
   "cell_type": "code",
   "execution_count": 122,
   "id": "12584881",
   "metadata": {},
   "outputs": [],
   "source": [
    "k = {'a': 1, 'b': 34}"
   ]
  },
  {
   "cell_type": "code",
   "execution_count": 124,
   "id": "2321eacf",
   "metadata": {},
   "outputs": [
    {
     "data": {
      "text/plain": [
       "1"
      ]
     },
     "execution_count": 124,
     "metadata": {},
     "output_type": "execute_result"
    }
   ],
   "source": [
    "k['a']"
   ]
  },
  {
   "cell_type": "code",
   "execution_count": 123,
   "id": "2c86a44e",
   "metadata": {},
   "outputs": [
    {
     "name": "stdout",
     "output_type": "stream",
     "text": [
      "a\n",
      "b\n"
     ]
    }
   ],
   "source": [
    "for i in k:\n",
    "    print(i)"
   ]
  },
  {
   "cell_type": "code",
   "execution_count": 125,
   "id": "4ce0674b",
   "metadata": {},
   "outputs": [
    {
     "name": "stdout",
     "output_type": "stream",
     "text": [
      "1\n",
      "34\n"
     ]
    }
   ],
   "source": [
    "for i in k:\n",
    "    print(k[i])"
   ]
  },
  {
   "cell_type": "code",
   "execution_count": 133,
   "id": "6779ea35",
   "metadata": {},
   "outputs": [],
   "source": [
    "def gn(*args, **kwargs):\n",
    "    result = args[0]\n",
    "    for i in args:\n",
    "        if i > result:\n",
    "            result = i\n",
    "    for i in kwargs:\n",
    "        if kwargs[i] > result:\n",
    "            result = kwargs[i]\n",
    "    return result"
   ]
  },
  {
   "cell_type": "code",
   "execution_count": 134,
   "id": "f59aa781",
   "metadata": {},
   "outputs": [
    {
     "data": {
      "text/plain": [
       "34"
      ]
     },
     "execution_count": 134,
     "metadata": {},
     "output_type": "execute_result"
    }
   ],
   "source": [
    "gn(1,2,3,4,a=1,b=34)"
   ]
  },
  {
   "cell_type": "code",
   "execution_count": 126,
   "id": "20356965",
   "metadata": {},
   "outputs": [],
   "source": [
    "a = (1,2,3,4)"
   ]
  },
  {
   "cell_type": "code",
   "execution_count": 128,
   "id": "20dd84a9",
   "metadata": {},
   "outputs": [
    {
     "name": "stdout",
     "output_type": "stream",
     "text": [
      "1\n",
      "2\n",
      "3\n",
      "4\n"
     ]
    }
   ],
   "source": [
    "for i in a:\n",
    "    print(i)"
   ]
  },
  {
   "cell_type": "code",
   "execution_count": 135,
   "id": "287ae7a4",
   "metadata": {},
   "outputs": [],
   "source": [
    "def gn(*args, **kwargs):\n",
    "    result = None\n",
    "    for i in args:\n",
    "        if result is None:\n",
    "            result = i\n",
    "        elif i > result:\n",
    "            result = i\n",
    "    for i in kwargs:\n",
    "        if kwargs[i] > result:\n",
    "            result = kwargs[i]\n",
    "    return result"
   ]
  },
  {
   "cell_type": "code",
   "execution_count": 136,
   "id": "c02a2209",
   "metadata": {},
   "outputs": [
    {
     "data": {
      "text/plain": [
       "34"
      ]
     },
     "execution_count": 136,
     "metadata": {},
     "output_type": "execute_result"
    }
   ],
   "source": [
    "gn(1,2,3,4,a=1,b=34)"
   ]
  },
  {
   "cell_type": "code",
   "execution_count": 137,
   "id": "eb682b70",
   "metadata": {},
   "outputs": [],
   "source": [
    "def add_():\n",
    "    x = input()\n",
    "    y = input()\n",
    "    print(x,y)\n",
    "    print(type(x), type(y))"
   ]
  },
  {
   "cell_type": "code",
   "execution_count": 138,
   "id": "fcb5cf89",
   "metadata": {},
   "outputs": [
    {
     "name": "stdout",
     "output_type": "stream",
     "text": [
      "1\n",
      "2\n",
      "1 2\n",
      "<class 'str'> <class 'str'>\n"
     ]
    }
   ],
   "source": [
    "add_()"
   ]
  },
  {
   "cell_type": "code",
   "execution_count": 139,
   "id": "619901de",
   "metadata": {},
   "outputs": [],
   "source": [
    "def add_():\n",
    "    x = float(input())\n",
    "    y = float(input())\n",
    "    print(x,y)\n",
    "    print(type(x), type(y))"
   ]
  },
  {
   "cell_type": "code",
   "execution_count": 140,
   "id": "c5fd8354",
   "metadata": {},
   "outputs": [
    {
     "name": "stdout",
     "output_type": "stream",
     "text": [
      "1\n",
      "2\n",
      "1.0 2.0\n",
      "<class 'float'> <class 'float'>\n"
     ]
    }
   ],
   "source": [
    "add_()"
   ]
  },
  {
   "cell_type": "code",
   "execution_count": 141,
   "id": "a91a1a02",
   "metadata": {},
   "outputs": [],
   "source": [
    "def add_():\n",
    "    x = float(input(\"Enter the value of x: \"))\n",
    "    y = float(input(\"Enter the value of y: \"))\n",
    "    return x+y"
   ]
  },
  {
   "cell_type": "code",
   "execution_count": 142,
   "id": "78534c7a",
   "metadata": {},
   "outputs": [
    {
     "name": "stdout",
     "output_type": "stream",
     "text": [
      "Enter the value of x: 1\n",
      "Enter the value of y: 2\n"
     ]
    },
    {
     "data": {
      "text/plain": [
       "3.0"
      ]
     },
     "execution_count": 142,
     "metadata": {},
     "output_type": "execute_result"
    }
   ],
   "source": [
    "add_()"
   ]
  },
  {
   "cell_type": "code",
   "execution_count": 143,
   "id": "bb0b57be",
   "metadata": {},
   "outputs": [],
   "source": [
    "def add_():\n",
    "    result = 0\n",
    "    while True:\n",
    "        num = input(\"Enter number or 'x' to exit: \")\n",
    "        if num == 'x':\n",
    "            break\n",
    "        else:\n",
    "            result = result + float(num)\n",
    "    return result"
   ]
  },
  {
   "cell_type": "code",
   "execution_count": 144,
   "id": "8b324a41",
   "metadata": {},
   "outputs": [
    {
     "name": "stdout",
     "output_type": "stream",
     "text": [
      "Enter number or 'x' to exit: 1\n",
      "Enter number or 'x' to exit: 2\n",
      "Enter number or 'x' to exit: 3\n",
      "Enter number or 'x' to exit: 4\n",
      "Enter number or 'x' to exit: 5\n",
      "Enter number or 'x' to exit: x\n"
     ]
    },
    {
     "data": {
      "text/plain": [
       "15.0"
      ]
     },
     "execution_count": 144,
     "metadata": {},
     "output_type": "execute_result"
    }
   ],
   "source": [
    "add_()"
   ]
  },
  {
   "cell_type": "code",
   "execution_count": 145,
   "id": "3dee3904",
   "metadata": {},
   "outputs": [],
   "source": [
    "import math"
   ]
  },
  {
   "cell_type": "code",
   "execution_count": 146,
   "id": "0dd9d162",
   "metadata": {},
   "outputs": [
    {
     "data": {
      "text/plain": [
       "8.0"
      ]
     },
     "execution_count": 146,
     "metadata": {},
     "output_type": "execute_result"
    }
   ],
   "source": [
    "math.pow(2, 3)"
   ]
  },
  {
   "cell_type": "code",
   "execution_count": 147,
   "id": "8f3d755a",
   "metadata": {},
   "outputs": [],
   "source": [
    "l1 = [1,2,3,4,5]"
   ]
  },
  {
   "cell_type": "code",
   "execution_count": 148,
   "id": "0a1b6a43",
   "metadata": {},
   "outputs": [],
   "source": [
    "l2 = []\n",
    "for i in l1:\n",
    "    l2.append(i**2)"
   ]
  },
  {
   "cell_type": "code",
   "execution_count": 149,
   "id": "0a44b32e",
   "metadata": {},
   "outputs": [
    {
     "data": {
      "text/plain": [
       "[1, 4, 9, 16, 25]"
      ]
     },
     "execution_count": 149,
     "metadata": {},
     "output_type": "execute_result"
    }
   ],
   "source": [
    "l2"
   ]
  },
  {
   "cell_type": "code",
   "execution_count": 150,
   "id": "59ee6fc1",
   "metadata": {},
   "outputs": [
    {
     "data": {
      "text/plain": [
       "[1, 4, 9, 16, 25]"
      ]
     },
     "execution_count": 150,
     "metadata": {},
     "output_type": "execute_result"
    }
   ],
   "source": [
    "[i**2 for i in l1]"
   ]
  },
  {
   "cell_type": "code",
   "execution_count": 151,
   "id": "b94730eb",
   "metadata": {},
   "outputs": [],
   "source": [
    "l1 = [1,2,3,4,5]"
   ]
  },
  {
   "cell_type": "code",
   "execution_count": null,
   "id": "66682f16",
   "metadata": {},
   "outputs": [],
   "source": [
    "[1, 9, 25]"
   ]
  },
  {
   "cell_type": "code",
   "execution_count": 152,
   "id": "976d59fe",
   "metadata": {},
   "outputs": [],
   "source": [
    "l2 = []\n",
    "for i in l1:\n",
    "    if i%2 != 0:\n",
    "        l2.append(i**2)"
   ]
  },
  {
   "cell_type": "code",
   "execution_count": 153,
   "id": "9a9c4eeb",
   "metadata": {},
   "outputs": [
    {
     "data": {
      "text/plain": [
       "[1, 9, 25]"
      ]
     },
     "execution_count": 153,
     "metadata": {},
     "output_type": "execute_result"
    }
   ],
   "source": [
    "l2"
   ]
  },
  {
   "cell_type": "code",
   "execution_count": 154,
   "id": "2dbbe7d4",
   "metadata": {},
   "outputs": [
    {
     "data": {
      "text/plain": [
       "[1, 9, 25]"
      ]
     },
     "execution_count": 154,
     "metadata": {},
     "output_type": "execute_result"
    }
   ],
   "source": [
    "[i**2 for i in l1 if i%2 != 0]"
   ]
  },
  {
   "cell_type": "code",
   "execution_count": 155,
   "id": "1ca97912",
   "metadata": {},
   "outputs": [],
   "source": [
    "l1 = [1,2,3,4,5]"
   ]
  },
  {
   "cell_type": "code",
   "execution_count": null,
   "id": "da721fad",
   "metadata": {},
   "outputs": [],
   "source": [
    "[1,2,9,4,25]"
   ]
  },
  {
   "cell_type": "code",
   "execution_count": 156,
   "id": "e1a7755d",
   "metadata": {},
   "outputs": [],
   "source": [
    "l2 = []\n",
    "for i in l1:\n",
    "    if i%2 != 0:\n",
    "        l2.append(i**2)\n",
    "    else:\n",
    "        l2.append(i)"
   ]
  },
  {
   "cell_type": "code",
   "execution_count": 157,
   "id": "ffa70b1d",
   "metadata": {},
   "outputs": [
    {
     "data": {
      "text/plain": [
       "[1, 2, 9, 4, 25]"
      ]
     },
     "execution_count": 157,
     "metadata": {},
     "output_type": "execute_result"
    }
   ],
   "source": [
    "l2"
   ]
  },
  {
   "cell_type": "code",
   "execution_count": 159,
   "id": "295a6ea7",
   "metadata": {},
   "outputs": [
    {
     "data": {
      "text/plain": [
       "[1, 2, 9, 4, 25]"
      ]
     },
     "execution_count": 159,
     "metadata": {},
     "output_type": "execute_result"
    }
   ],
   "source": [
    "[i**2 if i %2 != 0 else i for i in l1]"
   ]
  },
  {
   "cell_type": "code",
   "execution_count": 160,
   "id": "32e47bc1",
   "metadata": {},
   "outputs": [],
   "source": [
    "names = [\"Kumar\", \"Priya\", \"Suman\"]\n",
    "marks = [99, 98, 85]"
   ]
  },
  {
   "cell_type": "code",
   "execution_count": 163,
   "id": "c5eace23",
   "metadata": {},
   "outputs": [
    {
     "name": "stdout",
     "output_type": "stream",
     "text": [
      "('Kumar', 99)\n",
      "('Priya', 98)\n",
      "('Suman', 85)\n"
     ]
    }
   ],
   "source": [
    "for i in zip(names, marks):\n",
    "    print(i)"
   ]
  },
  {
   "cell_type": "code",
   "execution_count": 164,
   "id": "4881979a",
   "metadata": {},
   "outputs": [
    {
     "name": "stdout",
     "output_type": "stream",
     "text": [
      "Kumar 99\n",
      "Priya 98\n",
      "Suman 85\n"
     ]
    }
   ],
   "source": [
    "for i, j in zip(names, marks):\n",
    "    print(i, j)"
   ]
  },
  {
   "cell_type": "code",
   "execution_count": 165,
   "id": "314fa515",
   "metadata": {},
   "outputs": [],
   "source": [
    "my_dict = dict()\n",
    "for i, j in zip(names, marks):\n",
    "    my_dict[i] = j"
   ]
  },
  {
   "cell_type": "code",
   "execution_count": 166,
   "id": "ed394c72",
   "metadata": {},
   "outputs": [
    {
     "data": {
      "text/plain": [
       "{'Kumar': 99, 'Priya': 98, 'Suman': 85}"
      ]
     },
     "execution_count": 166,
     "metadata": {},
     "output_type": "execute_result"
    }
   ],
   "source": [
    "my_dict"
   ]
  },
  {
   "cell_type": "code",
   "execution_count": 167,
   "id": "2d623159",
   "metadata": {},
   "outputs": [
    {
     "data": {
      "text/plain": [
       "{'Kumar': 99, 'Priya': 98, 'Suman': 85}"
      ]
     },
     "execution_count": 167,
     "metadata": {},
     "output_type": "execute_result"
    }
   ],
   "source": [
    "{i:j for i, j in zip(names, marks)}"
   ]
  },
  {
   "cell_type": "code",
   "execution_count": 168,
   "id": "96a32a48",
   "metadata": {},
   "outputs": [],
   "source": [
    "dict1 = dict()"
   ]
  },
  {
   "cell_type": "code",
   "execution_count": 169,
   "id": "21f943fd",
   "metadata": {},
   "outputs": [
    {
     "data": {
      "text/plain": [
       "{}"
      ]
     },
     "execution_count": 169,
     "metadata": {},
     "output_type": "execute_result"
    }
   ],
   "source": [
    "dict1"
   ]
  },
  {
   "cell_type": "code",
   "execution_count": 170,
   "id": "63853b11",
   "metadata": {},
   "outputs": [],
   "source": [
    "dict1[\"a\"] = 11"
   ]
  },
  {
   "cell_type": "code",
   "execution_count": 171,
   "id": "bcf81ff0",
   "metadata": {},
   "outputs": [
    {
     "data": {
      "text/plain": [
       "{'a': 11}"
      ]
     },
     "execution_count": 171,
     "metadata": {},
     "output_type": "execute_result"
    }
   ],
   "source": [
    "dict1"
   ]
  },
  {
   "cell_type": "code",
   "execution_count": 172,
   "id": "b35aeb2a",
   "metadata": {},
   "outputs": [
    {
     "data": {
      "text/plain": [
       "11"
      ]
     },
     "execution_count": 172,
     "metadata": {},
     "output_type": "execute_result"
    }
   ],
   "source": [
    "dict1[\"a\"]"
   ]
  },
  {
   "cell_type": "code",
   "execution_count": 173,
   "id": "d0b9138e",
   "metadata": {},
   "outputs": [],
   "source": [
    "dict1 = {\"a\": 11, \"b\": 12}"
   ]
  },
  {
   "cell_type": "code",
   "execution_count": 174,
   "id": "0658b20e",
   "metadata": {},
   "outputs": [
    {
     "data": {
      "text/plain": [
       "{'a': 11, 'b': 12}"
      ]
     },
     "execution_count": 174,
     "metadata": {},
     "output_type": "execute_result"
    }
   ],
   "source": [
    "dict1"
   ]
  },
  {
   "cell_type": "code",
   "execution_count": 175,
   "id": "dc586f64",
   "metadata": {},
   "outputs": [],
   "source": [
    "dict1[\"c\"] = 13"
   ]
  },
  {
   "cell_type": "code",
   "execution_count": 176,
   "id": "689953e9",
   "metadata": {},
   "outputs": [
    {
     "data": {
      "text/plain": [
       "{'a': 11, 'b': 12, 'c': 13}"
      ]
     },
     "execution_count": 176,
     "metadata": {},
     "output_type": "execute_result"
    }
   ],
   "source": [
    "dict1"
   ]
  },
  {
   "cell_type": "code",
   "execution_count": 177,
   "id": "1d0eebb5",
   "metadata": {},
   "outputs": [],
   "source": [
    "import pandas as pd"
   ]
  },
  {
   "cell_type": "code",
   "execution_count": 178,
   "id": "851523f8",
   "metadata": {},
   "outputs": [],
   "source": [
    "titanic = pd.read_csv(\"https://raw.githubusercontent.com/datasciencedojo/datasets/master/titanic.csv\")"
   ]
  },
  {
   "cell_type": "code",
   "execution_count": 179,
   "id": "08645c76",
   "metadata": {},
   "outputs": [
    {
     "data": {
      "text/html": [
       "<div>\n",
       "<style scoped>\n",
       "    .dataframe tbody tr th:only-of-type {\n",
       "        vertical-align: middle;\n",
       "    }\n",
       "\n",
       "    .dataframe tbody tr th {\n",
       "        vertical-align: top;\n",
       "    }\n",
       "\n",
       "    .dataframe thead th {\n",
       "        text-align: right;\n",
       "    }\n",
       "</style>\n",
       "<table border=\"1\" class=\"dataframe\">\n",
       "  <thead>\n",
       "    <tr style=\"text-align: right;\">\n",
       "      <th></th>\n",
       "      <th>PassengerId</th>\n",
       "      <th>Survived</th>\n",
       "      <th>Pclass</th>\n",
       "      <th>Name</th>\n",
       "      <th>Sex</th>\n",
       "      <th>Age</th>\n",
       "      <th>SibSp</th>\n",
       "      <th>Parch</th>\n",
       "      <th>Ticket</th>\n",
       "      <th>Fare</th>\n",
       "      <th>Cabin</th>\n",
       "      <th>Embarked</th>\n",
       "    </tr>\n",
       "  </thead>\n",
       "  <tbody>\n",
       "    <tr>\n",
       "      <th>0</th>\n",
       "      <td>1</td>\n",
       "      <td>0</td>\n",
       "      <td>3</td>\n",
       "      <td>Braund, Mr. Owen Harris</td>\n",
       "      <td>male</td>\n",
       "      <td>22.0</td>\n",
       "      <td>1</td>\n",
       "      <td>0</td>\n",
       "      <td>A/5 21171</td>\n",
       "      <td>7.2500</td>\n",
       "      <td>NaN</td>\n",
       "      <td>S</td>\n",
       "    </tr>\n",
       "    <tr>\n",
       "      <th>1</th>\n",
       "      <td>2</td>\n",
       "      <td>1</td>\n",
       "      <td>1</td>\n",
       "      <td>Cumings, Mrs. John Bradley (Florence Briggs Th...</td>\n",
       "      <td>female</td>\n",
       "      <td>38.0</td>\n",
       "      <td>1</td>\n",
       "      <td>0</td>\n",
       "      <td>PC 17599</td>\n",
       "      <td>71.2833</td>\n",
       "      <td>C85</td>\n",
       "      <td>C</td>\n",
       "    </tr>\n",
       "    <tr>\n",
       "      <th>2</th>\n",
       "      <td>3</td>\n",
       "      <td>1</td>\n",
       "      <td>3</td>\n",
       "      <td>Heikkinen, Miss. Laina</td>\n",
       "      <td>female</td>\n",
       "      <td>26.0</td>\n",
       "      <td>0</td>\n",
       "      <td>0</td>\n",
       "      <td>STON/O2. 3101282</td>\n",
       "      <td>7.9250</td>\n",
       "      <td>NaN</td>\n",
       "      <td>S</td>\n",
       "    </tr>\n",
       "    <tr>\n",
       "      <th>3</th>\n",
       "      <td>4</td>\n",
       "      <td>1</td>\n",
       "      <td>1</td>\n",
       "      <td>Futrelle, Mrs. Jacques Heath (Lily May Peel)</td>\n",
       "      <td>female</td>\n",
       "      <td>35.0</td>\n",
       "      <td>1</td>\n",
       "      <td>0</td>\n",
       "      <td>113803</td>\n",
       "      <td>53.1000</td>\n",
       "      <td>C123</td>\n",
       "      <td>S</td>\n",
       "    </tr>\n",
       "    <tr>\n",
       "      <th>4</th>\n",
       "      <td>5</td>\n",
       "      <td>0</td>\n",
       "      <td>3</td>\n",
       "      <td>Allen, Mr. William Henry</td>\n",
       "      <td>male</td>\n",
       "      <td>35.0</td>\n",
       "      <td>0</td>\n",
       "      <td>0</td>\n",
       "      <td>373450</td>\n",
       "      <td>8.0500</td>\n",
       "      <td>NaN</td>\n",
       "      <td>S</td>\n",
       "    </tr>\n",
       "    <tr>\n",
       "      <th>...</th>\n",
       "      <td>...</td>\n",
       "      <td>...</td>\n",
       "      <td>...</td>\n",
       "      <td>...</td>\n",
       "      <td>...</td>\n",
       "      <td>...</td>\n",
       "      <td>...</td>\n",
       "      <td>...</td>\n",
       "      <td>...</td>\n",
       "      <td>...</td>\n",
       "      <td>...</td>\n",
       "      <td>...</td>\n",
       "    </tr>\n",
       "    <tr>\n",
       "      <th>886</th>\n",
       "      <td>887</td>\n",
       "      <td>0</td>\n",
       "      <td>2</td>\n",
       "      <td>Montvila, Rev. Juozas</td>\n",
       "      <td>male</td>\n",
       "      <td>27.0</td>\n",
       "      <td>0</td>\n",
       "      <td>0</td>\n",
       "      <td>211536</td>\n",
       "      <td>13.0000</td>\n",
       "      <td>NaN</td>\n",
       "      <td>S</td>\n",
       "    </tr>\n",
       "    <tr>\n",
       "      <th>887</th>\n",
       "      <td>888</td>\n",
       "      <td>1</td>\n",
       "      <td>1</td>\n",
       "      <td>Graham, Miss. Margaret Edith</td>\n",
       "      <td>female</td>\n",
       "      <td>19.0</td>\n",
       "      <td>0</td>\n",
       "      <td>0</td>\n",
       "      <td>112053</td>\n",
       "      <td>30.0000</td>\n",
       "      <td>B42</td>\n",
       "      <td>S</td>\n",
       "    </tr>\n",
       "    <tr>\n",
       "      <th>888</th>\n",
       "      <td>889</td>\n",
       "      <td>0</td>\n",
       "      <td>3</td>\n",
       "      <td>Johnston, Miss. Catherine Helen \"Carrie\"</td>\n",
       "      <td>female</td>\n",
       "      <td>NaN</td>\n",
       "      <td>1</td>\n",
       "      <td>2</td>\n",
       "      <td>W./C. 6607</td>\n",
       "      <td>23.4500</td>\n",
       "      <td>NaN</td>\n",
       "      <td>S</td>\n",
       "    </tr>\n",
       "    <tr>\n",
       "      <th>889</th>\n",
       "      <td>890</td>\n",
       "      <td>1</td>\n",
       "      <td>1</td>\n",
       "      <td>Behr, Mr. Karl Howell</td>\n",
       "      <td>male</td>\n",
       "      <td>26.0</td>\n",
       "      <td>0</td>\n",
       "      <td>0</td>\n",
       "      <td>111369</td>\n",
       "      <td>30.0000</td>\n",
       "      <td>C148</td>\n",
       "      <td>C</td>\n",
       "    </tr>\n",
       "    <tr>\n",
       "      <th>890</th>\n",
       "      <td>891</td>\n",
       "      <td>0</td>\n",
       "      <td>3</td>\n",
       "      <td>Dooley, Mr. Patrick</td>\n",
       "      <td>male</td>\n",
       "      <td>32.0</td>\n",
       "      <td>0</td>\n",
       "      <td>0</td>\n",
       "      <td>370376</td>\n",
       "      <td>7.7500</td>\n",
       "      <td>NaN</td>\n",
       "      <td>Q</td>\n",
       "    </tr>\n",
       "  </tbody>\n",
       "</table>\n",
       "<p>891 rows × 12 columns</p>\n",
       "</div>"
      ],
      "text/plain": [
       "     PassengerId  Survived  Pclass  \\\n",
       "0              1         0       3   \n",
       "1              2         1       1   \n",
       "2              3         1       3   \n",
       "3              4         1       1   \n",
       "4              5         0       3   \n",
       "..           ...       ...     ...   \n",
       "886          887         0       2   \n",
       "887          888         1       1   \n",
       "888          889         0       3   \n",
       "889          890         1       1   \n",
       "890          891         0       3   \n",
       "\n",
       "                                                  Name     Sex   Age  SibSp  \\\n",
       "0                              Braund, Mr. Owen Harris    male  22.0      1   \n",
       "1    Cumings, Mrs. John Bradley (Florence Briggs Th...  female  38.0      1   \n",
       "2                               Heikkinen, Miss. Laina  female  26.0      0   \n",
       "3         Futrelle, Mrs. Jacques Heath (Lily May Peel)  female  35.0      1   \n",
       "4                             Allen, Mr. William Henry    male  35.0      0   \n",
       "..                                                 ...     ...   ...    ...   \n",
       "886                              Montvila, Rev. Juozas    male  27.0      0   \n",
       "887                       Graham, Miss. Margaret Edith  female  19.0      0   \n",
       "888           Johnston, Miss. Catherine Helen \"Carrie\"  female   NaN      1   \n",
       "889                              Behr, Mr. Karl Howell    male  26.0      0   \n",
       "890                                Dooley, Mr. Patrick    male  32.0      0   \n",
       "\n",
       "     Parch            Ticket     Fare Cabin Embarked  \n",
       "0        0         A/5 21171   7.2500   NaN        S  \n",
       "1        0          PC 17599  71.2833   C85        C  \n",
       "2        0  STON/O2. 3101282   7.9250   NaN        S  \n",
       "3        0            113803  53.1000  C123        S  \n",
       "4        0            373450   8.0500   NaN        S  \n",
       "..     ...               ...      ...   ...      ...  \n",
       "886      0            211536  13.0000   NaN        S  \n",
       "887      0            112053  30.0000   B42        S  \n",
       "888      2        W./C. 6607  23.4500   NaN        S  \n",
       "889      0            111369  30.0000  C148        C  \n",
       "890      0            370376   7.7500   NaN        Q  \n",
       "\n",
       "[891 rows x 12 columns]"
      ]
     },
     "execution_count": 179,
     "metadata": {},
     "output_type": "execute_result"
    }
   ],
   "source": [
    "titanic"
   ]
  },
  {
   "cell_type": "code",
   "execution_count": 180,
   "id": "9ca9a917",
   "metadata": {},
   "outputs": [
    {
     "data": {
      "text/plain": [
       "0        male\n",
       "1      female\n",
       "2      female\n",
       "3      female\n",
       "4        male\n",
       "        ...  \n",
       "886      male\n",
       "887    female\n",
       "888    female\n",
       "889      male\n",
       "890      male\n",
       "Name: Sex, Length: 891, dtype: object"
      ]
     },
     "execution_count": 180,
     "metadata": {},
     "output_type": "execute_result"
    }
   ],
   "source": [
    "titanic[\"Sex\"]"
   ]
  },
  {
   "cell_type": "code",
   "execution_count": 181,
   "id": "a919ce2b",
   "metadata": {},
   "outputs": [],
   "source": [
    "def gender(s):\n",
    "    if s == \"male\":\n",
    "        return 0\n",
    "    else:\n",
    "        return 1"
   ]
  },
  {
   "cell_type": "code",
   "execution_count": 182,
   "id": "5355c9f4",
   "metadata": {},
   "outputs": [
    {
     "data": {
      "text/plain": [
       "0      0\n",
       "1      1\n",
       "2      1\n",
       "3      1\n",
       "4      0\n",
       "      ..\n",
       "886    0\n",
       "887    1\n",
       "888    1\n",
       "889    0\n",
       "890    0\n",
       "Name: Sex, Length: 891, dtype: int64"
      ]
     },
     "execution_count": 182,
     "metadata": {},
     "output_type": "execute_result"
    }
   ],
   "source": [
    "titanic[\"Sex\"].apply(gender)"
   ]
  },
  {
   "cell_type": "code",
   "execution_count": 183,
   "id": "baa3d53a",
   "metadata": {},
   "outputs": [
    {
     "data": {
      "text/plain": [
       "0      0\n",
       "1      1\n",
       "2      1\n",
       "3      1\n",
       "4      0\n",
       "      ..\n",
       "886    0\n",
       "887    1\n",
       "888    1\n",
       "889    0\n",
       "890    0\n",
       "Name: Sex, Length: 891, dtype: int64"
      ]
     },
     "execution_count": 183,
     "metadata": {},
     "output_type": "execute_result"
    }
   ],
   "source": [
    "titanic[\"Sex\"].apply(lambda s: 0 if s == \"male\" else 1)"
   ]
  },
  {
   "cell_type": "code",
   "execution_count": 188,
   "id": "37a20366",
   "metadata": {},
   "outputs": [
    {
     "data": {
      "text/plain": [
       "[1, 2, 3, 4, 5]"
      ]
     },
     "execution_count": 188,
     "metadata": {},
     "output_type": "execute_result"
    }
   ],
   "source": [
    "l1"
   ]
  },
  {
   "cell_type": "code",
   "execution_count": 189,
   "id": "dc146372",
   "metadata": {},
   "outputs": [
    {
     "data": {
      "text/plain": [
       "{1, 2, 3, 4, 5, 6}"
      ]
     },
     "execution_count": 189,
     "metadata": {},
     "output_type": "execute_result"
    }
   ],
   "source": [
    "s1"
   ]
  },
  {
   "cell_type": "code",
   "execution_count": 190,
   "id": "0b4834f7",
   "metadata": {},
   "outputs": [],
   "source": [
    "class Employee:\n",
    "    \n",
    "    def __init__(self):\n",
    "        pass\n",
    "    \n",
    "    def add_details(self, ID, Name):\n",
    "        self.ID = ID\n",
    "        self.Name = Name"
   ]
  },
  {
   "cell_type": "code",
   "execution_count": 191,
   "id": "487b5a46",
   "metadata": {},
   "outputs": [],
   "source": [
    "emp1 = Employee()"
   ]
  },
  {
   "cell_type": "code",
   "execution_count": 192,
   "id": "76cde0ed",
   "metadata": {},
   "outputs": [],
   "source": [
    "emp1.add_details(1001, \"Kumar\")"
   ]
  },
  {
   "cell_type": "code",
   "execution_count": 193,
   "id": "e54ab244",
   "metadata": {},
   "outputs": [
    {
     "data": {
      "text/plain": [
       "1001"
      ]
     },
     "execution_count": 193,
     "metadata": {},
     "output_type": "execute_result"
    }
   ],
   "source": [
    "emp1.ID"
   ]
  },
  {
   "cell_type": "code",
   "execution_count": 194,
   "id": "6d95a44e",
   "metadata": {},
   "outputs": [
    {
     "data": {
      "text/plain": [
       "'Kumar'"
      ]
     },
     "execution_count": 194,
     "metadata": {},
     "output_type": "execute_result"
    }
   ],
   "source": [
    "emp1.Name"
   ]
  },
  {
   "cell_type": "code",
   "execution_count": 195,
   "id": "cee67899",
   "metadata": {},
   "outputs": [],
   "source": [
    "emp2 = Employee()"
   ]
  },
  {
   "cell_type": "code",
   "execution_count": 196,
   "id": "1e27866b",
   "metadata": {},
   "outputs": [],
   "source": [
    "emp2.add_details(1002, \"Priya\")"
   ]
  },
  {
   "cell_type": "code",
   "execution_count": 197,
   "id": "59272399",
   "metadata": {},
   "outputs": [
    {
     "data": {
      "text/plain": [
       "1002"
      ]
     },
     "execution_count": 197,
     "metadata": {},
     "output_type": "execute_result"
    }
   ],
   "source": [
    "emp2.ID"
   ]
  },
  {
   "cell_type": "code",
   "execution_count": 198,
   "id": "eb7b62b5",
   "metadata": {},
   "outputs": [
    {
     "data": {
      "text/plain": [
       "'Priya'"
      ]
     },
     "execution_count": 198,
     "metadata": {},
     "output_type": "execute_result"
    }
   ],
   "source": [
    "emp2.Name"
   ]
  },
  {
   "cell_type": "code",
   "execution_count": 199,
   "id": "d69b88f1",
   "metadata": {},
   "outputs": [],
   "source": [
    "class Employee:\n",
    "    \n",
    "    def __init__(self, ID, Name):\n",
    "        self.ID = ID\n",
    "        self.Name = Name\n",
    "    \n",
    "    def add_salary(self, sal):\n",
    "        self.salary = sal\n",
    "    \n",
    "    def increment(self, inc):\n",
    "        self.salary = self.salary + self.salary * inc / 100"
   ]
  },
  {
   "cell_type": "code",
   "execution_count": 200,
   "id": "d061f09e",
   "metadata": {},
   "outputs": [
    {
     "ename": "TypeError",
     "evalue": "__init__() missing 2 required positional arguments: 'ID' and 'Name'",
     "output_type": "error",
     "traceback": [
      "\u001b[0;31m---------------------------------------------------------------------------\u001b[0m",
      "\u001b[0;31mTypeError\u001b[0m                                 Traceback (most recent call last)",
      "\u001b[0;32m/var/folders/0x/8qbylcs945qcwxhy42nzt0340000gn/T/ipykernel_1118/3947752549.py\u001b[0m in \u001b[0;36m<module>\u001b[0;34m\u001b[0m\n\u001b[0;32m----> 1\u001b[0;31m \u001b[0memp1\u001b[0m \u001b[0;34m=\u001b[0m \u001b[0mEmployee\u001b[0m\u001b[0;34m(\u001b[0m\u001b[0;34m)\u001b[0m\u001b[0;34m\u001b[0m\u001b[0;34m\u001b[0m\u001b[0m\n\u001b[0m",
      "\u001b[0;31mTypeError\u001b[0m: __init__() missing 2 required positional arguments: 'ID' and 'Name'"
     ]
    }
   ],
   "source": [
    "emp1 = Employee()"
   ]
  },
  {
   "cell_type": "code",
   "execution_count": 201,
   "id": "81ab13bd",
   "metadata": {},
   "outputs": [],
   "source": [
    "emp1 = Employee(1001, \"Kumar\")"
   ]
  },
  {
   "cell_type": "code",
   "execution_count": 202,
   "id": "adb3618b",
   "metadata": {},
   "outputs": [
    {
     "data": {
      "text/plain": [
       "1001"
      ]
     },
     "execution_count": 202,
     "metadata": {},
     "output_type": "execute_result"
    }
   ],
   "source": [
    "emp1.ID"
   ]
  },
  {
   "cell_type": "code",
   "execution_count": 203,
   "id": "28c95889",
   "metadata": {},
   "outputs": [
    {
     "data": {
      "text/plain": [
       "'Kumar'"
      ]
     },
     "execution_count": 203,
     "metadata": {},
     "output_type": "execute_result"
    }
   ],
   "source": [
    "emp1.Name"
   ]
  },
  {
   "cell_type": "code",
   "execution_count": 204,
   "id": "d8ec7bfd",
   "metadata": {},
   "outputs": [],
   "source": [
    "emp1.add_salary(55000)"
   ]
  },
  {
   "cell_type": "code",
   "execution_count": 205,
   "id": "dbe7df61",
   "metadata": {},
   "outputs": [
    {
     "data": {
      "text/plain": [
       "55000"
      ]
     },
     "execution_count": 205,
     "metadata": {},
     "output_type": "execute_result"
    }
   ],
   "source": [
    "emp1.salary"
   ]
  },
  {
   "cell_type": "code",
   "execution_count": 206,
   "id": "3a0b3ac0",
   "metadata": {},
   "outputs": [],
   "source": [
    "emp2 = Employee(1002, \"Priya\")"
   ]
  },
  {
   "cell_type": "code",
   "execution_count": 207,
   "id": "dd52ccb9",
   "metadata": {},
   "outputs": [],
   "source": [
    "emp2.add_salary(60000)"
   ]
  },
  {
   "cell_type": "code",
   "execution_count": 208,
   "id": "ee7348ff",
   "metadata": {},
   "outputs": [],
   "source": [
    "emp2.increment(10)"
   ]
  },
  {
   "cell_type": "code",
   "execution_count": 209,
   "id": "042c4295",
   "metadata": {},
   "outputs": [
    {
     "data": {
      "text/plain": [
       "66000.0"
      ]
     },
     "execution_count": 209,
     "metadata": {},
     "output_type": "execute_result"
    }
   ],
   "source": [
    "emp2.salary"
   ]
  },
  {
   "cell_type": "code",
   "execution_count": 210,
   "id": "b38750a8",
   "metadata": {},
   "outputs": [],
   "source": [
    "emp1.ID = 1003"
   ]
  },
  {
   "cell_type": "code",
   "execution_count": 212,
   "id": "43b7c92d",
   "metadata": {},
   "outputs": [
    {
     "data": {
      "text/plain": [
       "1003"
      ]
     },
     "execution_count": 212,
     "metadata": {},
     "output_type": "execute_result"
    }
   ],
   "source": [
    "emp1.ID"
   ]
  },
  {
   "cell_type": "code",
   "execution_count": null,
   "id": "4b88cb14",
   "metadata": {},
   "outputs": [],
   "source": []
  }
 ],
 "metadata": {
  "kernelspec": {
   "display_name": "Python 3 (ipykernel)",
   "language": "python",
   "name": "python3"
  },
  "language_info": {
   "codemirror_mode": {
    "name": "ipython",
    "version": 3
   },
   "file_extension": ".py",
   "mimetype": "text/x-python",
   "name": "python",
   "nbconvert_exporter": "python",
   "pygments_lexer": "ipython3",
   "version": "3.9.7"
  }
 },
 "nbformat": 4,
 "nbformat_minor": 5
}
